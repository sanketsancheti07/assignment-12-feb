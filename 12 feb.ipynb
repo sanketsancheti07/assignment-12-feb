{
 "cells": [
  {
   "cell_type": "markdown",
   "id": "c50bbf90-60d5-4960-baef-a3487ff5d9e3",
   "metadata": {},
   "source": [
    "Assignment 12 feb"
   ]
  },
  {
   "cell_type": "markdown",
   "id": "e5210b9f-c678-4739-9c01-db55e271361d",
   "metadata": {},
   "source": [
    "Q.1 what is exception ? difference between exception and syntax errors.\n",
    "ans : exceptions are raised when some internal events occur which changes the normal flow of the program. \n",
    "\n",
    "Exceptions are raised when the program is syntactically correct, but the code resulted in an error. This error does not stop the execution of the program, however, it changes the normal flow of the program.\n",
    "\n",
    "syntax error : As the name suggests this error is caused by the wrong syntax in the code. It leads to the termination of the program. "
   ]
  },
  {
   "cell_type": "markdown",
   "id": "fff37363-1c58-4375-9ba6-228970eefc77",
   "metadata": {},
   "source": [
    "Q.2 what happened when the exception is not handelled? explain with an example.\n",
    "\n",
    "ans : Python has many built-in exceptions which forces your program to output an error when something in it goes wrong. When these exceptions occur, it causes the current process to stop and passes it to the calling process until it is handled.\n",
    "If not handled, our program will crash."
   ]
  },
  {
   "cell_type": "code",
   "execution_count": 1,
   "id": "f9384f83-de49-4f1b-8f0d-ce44ad14dba8",
   "metadata": {},
   "outputs": [],
   "source": [
    "import logging as log \n",
    "log.basicConfig(filename = 'division_by_error.log',level =log.ERROR)\n",
    "\n",
    "\n",
    "x = 10\n",
    "y = 0\n",
    "\n",
    "try:\n",
    "    z = x / y\n",
    "except ZeroDivisionError as e :\n",
    "    log.error(e)"
   ]
  },
  {
   "cell_type": "markdown",
   "id": "dbcfbb32-37f1-4b8d-bf84-9d9a4b5cafb8",
   "metadata": {},
   "source": [
    "Q.3 which python statement used to catch and handle exception explain with example? \n",
    "\n",
    "ans : the try statement used to catch and handle exception "
   ]
  },
  {
   "cell_type": "code",
   "execution_count": 1,
   "id": "fcb0e7eb-4ac4-42d1-a76c-bdbdc07c94f1",
   "metadata": {},
   "outputs": [
    {
     "name": "stdout",
     "output_type": "stream",
     "text": [
      "this is my exception  [Errno 2] No such file or directory: 'test.txt'\n"
     ]
    }
   ],
   "source": [
    "try :\n",
    "    f = open(\"test.txt\",'r')\n",
    "except Exception as e:\n",
    "    print(\"this is my exception \",e)"
   ]
  },
  {
   "cell_type": "markdown",
   "id": "383d1ee2-792d-46bc-b6ba-052b1446dec7",
   "metadata": {},
   "source": [
    "Q.4 Explain with an example :\n",
    "\n",
    "a. try and else \n",
    "b. finally \n",
    "c. raise "
   ]
  },
  {
   "cell_type": "markdown",
   "id": "4d354c24-8318-4890-a511-2c0977ca62c6",
   "metadata": {},
   "source": [
    "try and else : we Use a try and else block to specify a block of code to be executed if no exceptions are raised in the try block.\n",
    "try block is succefully excuted then else block is excuted.\n",
    "\n",
    "finally : the finally block is used to specify a block of code to be executed no matter what happens in the try block. The finally block is always executed, whether an exception is raised or not, and regardless of whether there is an except block or not.\n",
    "\n",
    "raise : raise without any arguments is a special use of python syntax. It means get the exception and re-raise it. If this usage it could have been called reraise. raise From The Python Language Reference: If no expressions are present, raise re-raises the last exception that was active in the current scope."
   ]
  },
  {
   "cell_type": "code",
   "execution_count": 6,
   "id": "41ad6996-2347-4921-94d8-aaf543e9f71d",
   "metadata": {},
   "outputs": [
    {
     "name": "stdout",
     "output_type": "stream",
     "text": [
      "this is my exception\n"
     ]
    }
   ],
   "source": [
    "#try and else\n",
    "try:\n",
    "    f = open(\"sanket.txt\",'r')\n",
    "except Exception as e:\n",
    "    print(\"this is my exception\")\n",
    "else :\n",
    "    print(\"this is my else statement\")"
   ]
  },
  {
   "cell_type": "code",
   "execution_count": 7,
   "id": "8345ba02-494e-41ba-84f1-b90f35729c11",
   "metadata": {},
   "outputs": [],
   "source": [
    "#finally \n",
    "try :\n",
    "    \n",
    "    with open(\"test_file.txt\",'w') as f :\n",
    "        f.write (\"this my file \")\n",
    "        \n",
    "except FileNotFoundError as e:\n",
    "    print(e) \n",
    "    \n",
    "finally :\n",
    "    f.close()"
   ]
  },
  {
   "cell_type": "code",
   "execution_count": 1,
   "id": "fb9365be-a172-4fa5-98a4-013a9d15f21b",
   "metadata": {},
   "outputs": [],
   "source": [
    "#raise\n",
    "class validateage(Exception):\n",
    "    \n",
    "    def __init__(self,msg):\n",
    "        self.msg = msg "
   ]
  },
  {
   "cell_type": "code",
   "execution_count": 2,
   "id": "3fa78404-0aae-4f14-9140-b33b680957b1",
   "metadata": {},
   "outputs": [],
   "source": [
    "def valid_age(age):\n",
    "    if age <0 :\n",
    "        raise validateage (\"enter age is negetive \")\n",
    "        \n",
    "    elif age > 200 :\n",
    "        raise validateage (\"enters age is high value \")\n",
    "        \n",
    "    else :\n",
    "        print(\"age is valid\")"
   ]
  },
  {
   "cell_type": "code",
   "execution_count": 3,
   "id": "22c1d502-a0de-4bf0-b4b3-33ef1078cab5",
   "metadata": {},
   "outputs": [
    {
     "name": "stdin",
     "output_type": "stream",
     "text": [
      "enter your age -3\n"
     ]
    },
    {
     "name": "stdout",
     "output_type": "stream",
     "text": [
      "enter age is negetive \n"
     ]
    }
   ],
   "source": [
    "try :\n",
    "    age = int (input(\"enter your age\"))\n",
    "    valid_age(age)\n",
    "except validateage as e:\n",
    "    print(e)"
   ]
  },
  {
   "cell_type": "markdown",
   "id": "f50be2b9-a934-4f02-b16f-6b0ae03d6367",
   "metadata": {},
   "source": [
    "Q.5 What are custom Exceptions in python ? Why do we need custom Exceptions ? Explain with an example.\n",
    "\n",
    "ans : Custom exceptions in Python are user-defined exceptions that allow you to define your own error conditions and raise exceptions when those conditions are met. This can be useful when you want to raise a specific error message that is not available with the built-in Python exceptions.\n",
    "\n",
    "Custom exceptions in Python can be useful for a number of reasons, including:\n",
    "\n",
    "Providing more specific information: Custom exceptions can provide more specific information about what went wrong in a particular piece of code, which can be useful for debugging purposes. By raising a custom exception, you can provide a more detailed error message that describes the nature of the problem."
   ]
  },
  {
   "cell_type": "code",
   "execution_count": 4,
   "id": "d5383c9e-6fe0-4412-8a0c-67ab30961214",
   "metadata": {},
   "outputs": [
    {
     "name": "stdin",
     "output_type": "stream",
     "text": [
      "enter your age -3\n"
     ]
    },
    {
     "name": "stdout",
     "output_type": "stream",
     "text": [
      "enter age is negetive \n"
     ]
    }
   ],
   "source": [
    "class validateage(Exception):\n",
    "    \n",
    "    def __init__(self,msg):\n",
    "        self.msg = msg \n",
    "        \n",
    "        \n",
    "def vali_age(age):\n",
    "    if age <0 :\n",
    "        raise validateage (\"enter age is negetive \")\n",
    "        \n",
    "    elif age > 200 :\n",
    "        raise validateage (\"enters age is high value \")\n",
    "        \n",
    "    else :\n",
    "        print(\"age is valid\")\n",
    "        \n",
    "try :\n",
    "    age = int (input(\"enter your age\"))\n",
    "    vali_age(age)\n",
    "except validateage as e:\n",
    "    print(e)"
   ]
  },
  {
   "cell_type": "markdown",
   "id": "f29c6f7f-9c78-4f18-9f8e-71285ea4ef94",
   "metadata": {},
   "source": [
    "Q.6 Create a custom exception class.Use this class to handle an exception."
   ]
  },
  {
   "cell_type": "code",
   "execution_count": 5,
   "id": "ba21296a-9277-439d-b8d8-9089cf89710a",
   "metadata": {},
   "outputs": [],
   "source": [
    "class Book_calculator_error (Exception):\n",
    "    \n",
    "    def __init__(self,msg):\n",
    "        self.msg = msg "
   ]
  },
  {
   "cell_type": "code",
   "execution_count": 6,
   "id": "65709693-0665-4049-b297-4c6d6a628edf",
   "metadata": {},
   "outputs": [],
   "source": [
    "def book_error(book_of_num):\n",
    "    if book_of_num < 0:\n",
    "        raise Book_calculator_error(\"Book is not define in Negative\")\n",
    "        \n",
    "    else :\n",
    "        print(\"Total Books is %d\" %book_of_num )"
   ]
  },
  {
   "cell_type": "code",
   "execution_count": 7,
   "id": "613c879d-45d3-4c2f-9317-6d26d3022a94",
   "metadata": {},
   "outputs": [
    {
     "name": "stdin",
     "output_type": "stream",
     "text": [
      "Enter book number  -34\n"
     ]
    },
    {
     "name": "stdout",
     "output_type": "stream",
     "text": [
      "Book is not define in Negative\n"
     ]
    }
   ],
   "source": [
    "try :\n",
    "    a = int(input('Enter book number '))\n",
    "    book_error(a)\n",
    "    \n",
    "except Book_calculator_error as e :\n",
    "    print(e)\n",
    "    "
   ]
  },
  {
   "cell_type": "code",
   "execution_count": null,
   "id": "846cbe3a-dd88-456c-b12e-f34183405f98",
   "metadata": {},
   "outputs": [],
   "source": []
  }
 ],
 "metadata": {
  "kernelspec": {
   "display_name": "Python 3 (ipykernel)",
   "language": "python",
   "name": "python3"
  },
  "language_info": {
   "codemirror_mode": {
    "name": "ipython",
    "version": 3
   },
   "file_extension": ".py",
   "mimetype": "text/x-python",
   "name": "python",
   "nbconvert_exporter": "python",
   "pygments_lexer": "ipython3",
   "version": "3.10.8"
  }
 },
 "nbformat": 4,
 "nbformat_minor": 5
}
